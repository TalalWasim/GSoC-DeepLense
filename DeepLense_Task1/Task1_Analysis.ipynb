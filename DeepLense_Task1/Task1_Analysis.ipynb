{
 "cells": [
  {
   "cell_type": "markdown",
   "metadata": {},
   "source": [
    "# Task 1"
   ]
  },
  {
   "cell_type": "markdown",
   "metadata": {},
   "source": [
    "**Model**|**Pre-Trained**|**Epochs**|**Initial LR**|**Step LR Step Size**|**Step LR Gamma**|**Img Size**|**Accuracy**\n",
    ":-----:|:-----:|:-----:|:-----:|:-----:|:-----:|:-----:|:-----:\n",
    "ResNet 18|ImageNet-1K|30|0.001|5|0.2|150x150x3|0.9332\n",
    "EfficientNet B2|ImageNet-1K|30|0.001|5|0.2|150x150x3|0.9275"
   ]
  },
  {
   "cell_type": "markdown",
   "metadata": {},
   "source": [
    "# Loss Plot"
   ]
  },
  {
   "cell_type": "markdown",
   "metadata": {},
   "source": [
    "![Task 1 Loss Plot](task1_loss.png \"Tasl 1 Loss Plot\")"
   ]
  },
  {
   "cell_type": "markdown",
   "metadata": {},
   "source": [
    "# ROC Curve"
   ]
  },
  {
   "cell_type": "markdown",
   "metadata": {},
   "source": [
    "![Task 1 ROC Curve](task1_ROC.png \"Tasl 1 ROC Curve\")"
   ]
  }
 ],
 "metadata": {
  "kernelspec": {
   "display_name": "DeepLense",
   "language": "python",
   "name": "deeplense"
  },
  "language_info": {
   "codemirror_mode": {
    "name": "ipython",
    "version": 3
   },
   "file_extension": ".py",
   "mimetype": "text/x-python",
   "name": "python",
   "nbconvert_exporter": "python",
   "pygments_lexer": "ipython3",
   "version": "3.8.13"
  }
 },
 "nbformat": 4,
 "nbformat_minor": 4
}
