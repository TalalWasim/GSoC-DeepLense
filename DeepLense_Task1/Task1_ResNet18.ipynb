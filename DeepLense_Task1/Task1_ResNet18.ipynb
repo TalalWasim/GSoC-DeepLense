{
 "cells": [
  {
   "cell_type": "markdown",
   "metadata": {},
   "source": [
    "# Import Dependencies and Check GPU"
   ]
  },
  {
   "cell_type": "code",
   "execution_count": 2,
   "metadata": {},
   "outputs": [
    {
     "name": "stdout",
     "output_type": "stream",
     "text": [
      "device: cuda\n"
     ]
    }
   ],
   "source": [
    "import torch\n",
    "import numpy as np\n",
    "import random\n",
    "import os\n",
    "import shutil\n",
    "\n",
    "from task1Utils import load_dataset, get_model, train, plot_loss\n",
    "\n",
    "device = torch.device(\"cuda\") if torch.cuda.is_available() else torch.device(\"cpu\")\n",
    "print(\"device:\", device)\n",
    "\n",
    "%matplotlib inline\n",
    "%config InlineBackend.figure_format = 'retina'"
   ]
  },
  {
   "cell_type": "markdown",
   "metadata": {},
   "source": [
    "# Set Seeds"
   ]
  },
  {
   "cell_type": "code",
   "execution_count": 3,
   "metadata": {},
   "outputs": [],
   "source": [
    "# Set Seeds\n",
    "\n",
    "seed = 50\n",
    "\n",
    "random.seed(seed)\n",
    "os.environ['PYTHONHASHSEED'] = str(seed)\n",
    "np.random.seed(seed)\n",
    "torch.manual_seed(seed)\n",
    "torch.cuda.manual_seed(seed)\n",
    "torch.cuda.manual_seed_all(seed)\n",
    "torch.backends.cudnn.deterministic = True"
   ]
  },
  {
   "cell_type": "markdown",
   "metadata": {},
   "source": [
    "# Define Training Params"
   ]
  },
  {
   "cell_type": "code",
   "execution_count": 4,
   "metadata": {},
   "outputs": [],
   "source": [
    "# Params\n",
    "\n",
    "task = 'task1'\n",
    "model_name = 'ResNet18'\n",
    "channel = 'RGB'\n",
    "\n",
    "img_size = 150\n",
    "initial_lr = 0.001\n",
    "gamma = 0.2 # StepLR gamma\n",
    "step = 5 # StepLR step size\n",
    "num_epochs = 30\n",
    "train_batch_size = 256\n",
    "\n",
    "name = '{}-{}-{}-{}-LR-{}-gamma-{}-step-{}-epochs-{}'.format(task, model_name, channel, img_size,\n",
    "                                                             initial_lr, gamma, step, num_epochs)\n",
    "checkpoint_dir = './checkpoints_'+name"
   ]
  },
  {
   "cell_type": "markdown",
   "metadata": {},
   "source": [
    "# Load Data"
   ]
  },
  {
   "cell_type": "code",
   "execution_count": 5,
   "metadata": {},
   "outputs": [],
   "source": [
    "train_loader, test_loader, CLASSES = load_dataset(train_batch_size)"
   ]
  },
  {
   "cell_type": "markdown",
   "metadata": {},
   "source": [
    "# Create Checkpoints Directory"
   ]
  },
  {
   "cell_type": "code",
   "execution_count": 6,
   "metadata": {},
   "outputs": [],
   "source": [
    "# NOTE: THIS WILL OVERWRITE PREVIOUS RUN OF THE SAME NAME\n",
    "\n",
    "if os.path.exists(checkpoint_dir) and os.path.isdir(checkpoint_dir):\n",
    "    shutil.rmtree(checkpoint_dir)\n",
    "\n",
    "os. makedirs(checkpoint_dir, exist_ok=True)"
   ]
  },
  {
   "cell_type": "markdown",
   "metadata": {},
   "source": [
    "# Build Model"
   ]
  },
  {
   "cell_type": "code",
   "execution_count": 7,
   "metadata": {},
   "outputs": [],
   "source": [
    "model = get_model(model_name)\n",
    "model.to(device);"
   ]
  },
  {
   "cell_type": "markdown",
   "metadata": {},
   "source": [
    "# Start Training"
   ]
  },
  {
   "cell_type": "code",
   "execution_count": 8,
   "metadata": {},
   "outputs": [
    {
     "name": "stderr",
     "output_type": "stream",
     "text": [
      "100%|████████████████████████████████████████████████████████████████████████| 118/118 [00:27<00:00,  4.26it/s]\n",
      "100%|██████████████████████████████████████████████████████████████████████████| 30/30 [00:02<00:00, 10.55it/s]\n",
      "/home/sw01635/.local/lib/python3.8/site-packages/torch/nn/modules/module.py:1383: UserWarning: positional arguments and argument \"destination\" are deprecated. nn.Module.state_dict will not accept them in the future. Refer to https://pytorch.org/docs/master/generated/torch.nn.Module.html#torch.nn.Module.state_dict for details.\n",
      "  warnings.warn(\n"
     ]
    },
    {
     "name": "stdout",
     "output_type": "stream",
     "text": [
      "[001] train loss: 1.101980 test loss: 2.005154 test accuracy: 0.334133\n",
      "\n"
     ]
    },
    {
     "name": "stderr",
     "output_type": "stream",
     "text": [
      "100%|████████████████████████████████████████████████████████████████████████| 118/118 [00:27<00:00,  4.31it/s]\n",
      "100%|██████████████████████████████████████████████████████████████████████████| 30/30 [00:02<00:00, 10.67it/s]\n"
     ]
    },
    {
     "name": "stdout",
     "output_type": "stream",
     "text": [
      "[002] train loss: 0.659182 test loss: 0.644838 test accuracy: 0.764933\n",
      "\n"
     ]
    },
    {
     "name": "stderr",
     "output_type": "stream",
     "text": [
      "100%|████████████████████████████████████████████████████████████████████████| 118/118 [00:27<00:00,  4.26it/s]\n",
      "100%|██████████████████████████████████████████████████████████████████████████| 30/30 [00:02<00:00, 10.72it/s]\n"
     ]
    },
    {
     "name": "stdout",
     "output_type": "stream",
     "text": [
      "[003] train loss: 0.386325 test loss: 0.657698 test accuracy: 0.726400\n",
      "\n"
     ]
    },
    {
     "name": "stderr",
     "output_type": "stream",
     "text": [
      "100%|████████████████████████████████████████████████████████████████████████| 118/118 [00:27<00:00,  4.24it/s]\n",
      "100%|██████████████████████████████████████████████████████████████████████████| 30/30 [00:02<00:00, 10.64it/s]\n"
     ]
    },
    {
     "name": "stdout",
     "output_type": "stream",
     "text": [
      "[004] train loss: 0.306371 test loss: 0.406768 test accuracy: 0.860267\n",
      "\n"
     ]
    },
    {
     "name": "stderr",
     "output_type": "stream",
     "text": [
      "100%|████████████████████████████████████████████████████████████████████████| 118/118 [00:27<00:00,  4.23it/s]\n",
      "100%|██████████████████████████████████████████████████████████████████████████| 30/30 [00:02<00:00, 10.58it/s]\n"
     ]
    },
    {
     "name": "stdout",
     "output_type": "stream",
     "text": [
      "[005] train loss: 0.260395 test loss: 0.359425 test accuracy: 0.860667\n",
      "\n"
     ]
    },
    {
     "name": "stderr",
     "output_type": "stream",
     "text": [
      "100%|████████████████████████████████████████████████████████████████████████| 118/118 [00:27<00:00,  4.23it/s]\n",
      "100%|██████████████████████████████████████████████████████████████████████████| 30/30 [00:02<00:00, 10.53it/s]\n"
     ]
    },
    {
     "name": "stdout",
     "output_type": "stream",
     "text": [
      "[006] train loss: 0.159114 test loss: 0.223263 test accuracy: 0.924667\n",
      "\n"
     ]
    },
    {
     "name": "stderr",
     "output_type": "stream",
     "text": [
      "100%|████████████████████████████████████████████████████████████████████████| 118/118 [00:28<00:00,  4.21it/s]\n",
      "100%|██████████████████████████████████████████████████████████████████████████| 30/30 [00:02<00:00, 10.53it/s]\n"
     ]
    },
    {
     "name": "stdout",
     "output_type": "stream",
     "text": [
      "[007] train loss: 0.122954 test loss: 0.208301 test accuracy: 0.924933\n",
      "\n"
     ]
    },
    {
     "name": "stderr",
     "output_type": "stream",
     "text": [
      "100%|████████████████████████████████████████████████████████████████████████| 118/118 [00:28<00:00,  4.20it/s]\n",
      "100%|██████████████████████████████████████████████████████████████████████████| 30/30 [00:02<00:00, 10.56it/s]\n"
     ]
    },
    {
     "name": "stdout",
     "output_type": "stream",
     "text": [
      "[008] train loss: 0.106888 test loss: 0.257260 test accuracy: 0.920933\n",
      "\n"
     ]
    },
    {
     "name": "stderr",
     "output_type": "stream",
     "text": [
      "100%|████████████████████████████████████████████████████████████████████████| 118/118 [00:28<00:00,  4.20it/s]\n",
      "100%|██████████████████████████████████████████████████████████████████████████| 30/30 [00:02<00:00, 10.78it/s]\n"
     ]
    },
    {
     "name": "stdout",
     "output_type": "stream",
     "text": [
      "[009] train loss: 0.086927 test loss: 0.224294 test accuracy: 0.929867\n",
      "\n"
     ]
    },
    {
     "name": "stderr",
     "output_type": "stream",
     "text": [
      "100%|████████████████████████████████████████████████████████████████████████| 118/118 [00:28<00:00,  4.19it/s]\n",
      "100%|██████████████████████████████████████████████████████████████████████████| 30/30 [00:02<00:00, 10.50it/s]\n"
     ]
    },
    {
     "name": "stdout",
     "output_type": "stream",
     "text": [
      "[010] train loss: 0.075921 test loss: 0.269423 test accuracy: 0.919867\n",
      "\n"
     ]
    }
   ],
   "source": [
    "log = train(1, num_epochs, name, model, train_loader,\n",
    "            test_loader, initial_lr, step, gamma)"
   ]
  },
  {
   "cell_type": "markdown",
   "metadata": {},
   "source": [
    "# Plot Loss"
   ]
  },
  {
   "cell_type": "code",
   "execution_count": 10,
   "metadata": {},
   "outputs": [
    {
     "data": {
      "image/png": "[encoded data removed]",
      "text/plain": [
       "<Figure size 720x432 with 1 Axes>"
      ]
     },
     "metadata": {
      "image/png": {
       "height": 386,
       "width": 615
      },
      "needs_background": "light"
     },
     "output_type": "display_data"
    }
   ],
   "source": [
    "plot_loss(log['train_losses'], log['test_losses'])"
   ]
  },
  {
   "cell_type": "code",
   "execution_count": null,
   "metadata": {},
   "outputs": [],
   "source": []
  }
 ],
 "metadata": {
  "kernelspec": {
   "display_name": "DeepLense",
   "language": "python",
   "name": "deeplense"
  },
  "language_info": {
   "codemirror_mode": {
    "name": "ipython",
    "version": 3
   },
   "file_extension": ".py",
   "mimetype": "text/x-python",
   "name": "python",
   "nbconvert_exporter": "python",
   "pygments_lexer": "ipython3",
   "version": "3.8.13"
  }
 },
 "nbformat": 4,
 "nbformat_minor": 4
}
