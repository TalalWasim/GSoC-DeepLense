{
 "cells": [
  {
   "cell_type": "markdown",
   "metadata": {},
   "source": [
    "# Task 5"
   ]
  },
  {
   "cell_type": "markdown",
   "metadata": {},
   "source": [
    "**Model**|**Pre-Trained**|**Epochs**|**Initial LR**|**Step LR Step Size**|**Step LR Gamma**|**Img Size**|**Accuracy**\n",
    ":-----:|:-----:|:-----:|:-----:|:-----:|:-----:|:-----:|:-----:\n",
    "EfficientNet B2|ImageNet-1K|30|0.001|5|0.2|224x224x3|0.997\n",
    "ViT\\_B16|ImageNet-1K|30|3E-05|3|0.7|224x224x3|0.998\n",
    "Linformer|None|60|1E-05|4|0.7|224x224x3|0.92\n",
    "Crossformer|None|60|1E-05|4|0.7|224x224x3|0.977"
   ]
  },
  {
   "cell_type": "markdown",
   "metadata": {},
   "source": [
    "# Loss Plot"
   ]
  },
  {
   "cell_type": "markdown",
   "metadata": {},
   "source": [
    "![Task 5 Loss Plot](task5_loss.png \"Tasl 5 Loss Plot\")"
   ]
  },
  {
   "cell_type": "markdown",
   "metadata": {},
   "source": [
    "# ROC Curve"
   ]
  },
  {
   "cell_type": "markdown",
   "metadata": {},
   "source": [
    "![Task 5 ROC Curve](task5_ROC.png \"Tasl 5 ROC Curve\")"
   ]
  }
 ],
 "metadata": {
  "kernelspec": {
   "display_name": "DeepLense",
   "language": "python",
   "name": "deeplense"
  },
  "language_info": {
   "codemirror_mode": {
    "name": "ipython",
    "version": 3
   },
   "file_extension": ".py",
   "mimetype": "text/x-python",
   "name": "python",
   "nbconvert_exporter": "python",
   "pygments_lexer": "ipython3",
   "version": "3.8.13"
  }
 },
 "nbformat": 4,
 "nbformat_minor": 4
}
